{
 "cells": [
  {
   "cell_type": "markdown",
   "id": "b8a1ad86-0201-4723-88e3-1f97098c83e7",
   "metadata": {},
   "source": [
    "# Task 1"
   ]
  },
  {
   "cell_type": "code",
   "execution_count": 4,
   "id": "5225b436-f527-4940-a9bd-ad74797350a5",
   "metadata": {},
   "outputs": [],
   "source": [
    "import pandas as pd\n",
    "import ast\n",
    "from sklearn.feature_extraction.text import TfidfVectorizer\n",
    "from scipy.sparse import hstack\n",
    "from scipy.sparse import save_npz\n",
    "import joblib\n"
   ]
  },
  {
   "cell_type": "markdown",
   "id": "63be8147-8351-4135-86b0-3bbfe2a90586",
   "metadata": {},
   "source": [
    "### Step 1: Load the disease features dataset"
   ]
  },
  {
   "cell_type": "code",
   "execution_count": 5,
   "id": "5554643e-3fa4-4d9f-8fff-311d9373ce46",
   "metadata": {},
   "outputs": [],
   "source": [
    "df = pd.read_csv(\"disease_features.csv\")"
   ]
  },
  {
   "cell_type": "markdown",
   "id": "813500be-805b-4da6-a222-632f41227112",
   "metadata": {},
   "source": [
    "### Step 2: Parse and convert lists into strings"
   ]
  },
  {
   "cell_type": "code",
   "execution_count": 6,
   "id": "a94b808a-6cc1-40d8-9756-fa9661071566",
   "metadata": {},
   "outputs": [],
   "source": [
    "def parse_and_flatten_column(column):\n",
    "    return df[column].apply(lambda x: \" \".join(ast.literal_eval(x)) if pd.notna(x) and x.strip() else \"\")\n",
    "\n",
    "df[\"Risk Factors Clean\"] = parse_and_flatten_column(\"Risk Factors\")\n",
    "df[\"Symptoms Clean\"] = parse_and_flatten_column(\"Symptoms\")\n",
    "df[\"Signs Clean\"] = parse_and_flatten_column(\"Signs\")\n",
    "df[\"Subtypes Clean\"] = parse_and_flatten_column(\"Subtypes\")  "
   ]
  },
  {
   "cell_type": "markdown",
   "id": "5de3ccec-4f84-4506-88a7-81599f9218ad",
   "metadata": {},
   "source": [
    "### Step 3 & 4: TF-IDF vectorization for each column"
   ]
  },
  {
   "cell_type": "code",
   "execution_count": 7,
   "id": "09004547-d7e4-4946-bc12-9419a671efbb",
   "metadata": {},
   "outputs": [],
   "source": [
    "vectorizer_risk = TfidfVectorizer()\n",
    "vectorizer_symptoms = TfidfVectorizer()\n",
    "vectorizer_signs = TfidfVectorizer()\n",
    "vectorizer_subtypes = TfidfVectorizer()\n",
    "\n",
    "tfidf_risk = vectorizer_risk.fit_transform(df[\"Risk Factors Clean\"])\n",
    "tfidf_symptoms = vectorizer_symptoms.fit_transform(df[\"Symptoms Clean\"])\n",
    "tfidf_signs = vectorizer_signs.fit_transform(df[\"Signs Clean\"])\n",
    "tfidf_subtypes = vectorizer_subtypes.fit_transform(df[\"Subtypes Clean\"])  # ✅"
   ]
  },
  {
   "cell_type": "markdown",
   "id": "6137db2f-fbc5-4bbb-b8ee-134ded290a5c",
   "metadata": {},
   "source": [
    "### Step 5: Combine all TF-IDF matrices into one"
   ]
  },
  {
   "cell_type": "code",
   "execution_count": 8,
   "id": "44f38e67-cb41-4492-896c-26adbd7e458c",
   "metadata": {},
   "outputs": [],
   "source": [
    "tfidf_combined = hstack([tfidf_risk, tfidf_symptoms, tfidf_signs, tfidf_subtypes])"
   ]
  },
  {
   "cell_type": "markdown",
   "id": "6bdf77e5-dfe1-4de2-a45a-8b847627385f",
   "metadata": {},
   "source": [
    "### Step 6: Compare with the one-hot encoded matrix"
   ]
  },
  {
   "cell_type": "code",
   "execution_count": 9,
   "id": "b77fed74-ecf5-4c70-a038-78451d475985",
   "metadata": {},
   "outputs": [],
   "source": [
    "encoded_df = pd.read_csv(\"encoded_output2.csv\")\n",
    "encoded_matrix = encoded_df.drop(columns=[\"Disease\"]).values"
   ]
  },
  {
   "cell_type": "markdown",
   "id": "f8ac77f1-5f63-4a60-8e86-3c6740836cf6",
   "metadata": {},
   "source": [
    "### Step 7: Summary comparison"
   ]
  },
  {
   "cell_type": "code",
   "execution_count": 10,
   "id": "7ebb01c0-bf9a-4eb3-922c-3412e227a6ba",
   "metadata": {},
   "outputs": [],
   "source": [
    "comparison = {\n",
    "    \"TF-IDF Matrix Shape\": tfidf_combined.shape,\n",
    "    \"One-Hot Matrix Shape\": encoded_matrix.shape,\n",
    "    \"TF-IDF Sparsity (%)\": 100.0 * (1.0 - tfidf_combined.nnz / (tfidf_combined.shape[0] * tfidf_combined.shape[1])),\n",
    "    \"One-Hot Sparsity (%)\": 100.0 * (1.0 - (encoded_matrix != 0).sum() / encoded_matrix.size),\n",
    "    \"TF-IDF Unique Features\": tfidf_combined.shape[1],\n",
    "    \"One-Hot Unique Features\": encoded_matrix.shape[1],\n",
    "}"
   ]
  },
  {
   "cell_type": "code",
   "execution_count": 11,
   "id": "9888c4fd-5f46-41d9-bcd0-12eab9c42d6f",
   "metadata": {},
   "outputs": [],
   "source": [
    "# Save TF-IDF matrix\n",
    "save_npz(\"tfidf_combined_matrix.npz\", tfidf_combined)\n"
   ]
  },
  {
   "cell_type": "code",
   "execution_count": 12,
   "id": "9a67082a-fc08-4b69-93b3-062e3059eb4f",
   "metadata": {},
   "outputs": [
    {
     "data": {
      "text/plain": [
       "['vectorizer_subtypes.pkl']"
      ]
     },
     "execution_count": 12,
     "metadata": {},
     "output_type": "execute_result"
    }
   ],
   "source": [
    "# Save the vectorizers if needed later\n",
    "joblib.dump(vectorizer_risk, \"vectorizer_risk.pkl\")\n",
    "joblib.dump(vectorizer_symptoms, \"vectorizer_symptoms.pkl\")\n",
    "joblib.dump(vectorizer_signs, \"vectorizer_signs.pkl\")\n",
    "joblib.dump(vectorizer_subtypes, \"vectorizer_subtypes.pkl\")"
   ]
  },
  {
   "cell_type": "code",
   "execution_count": 13,
   "id": "8f180d42-efe2-4275-948b-230190d7df05",
   "metadata": {},
   "outputs": [
    {
     "name": "stdout",
     "output_type": "stream",
     "text": [
      "TF-IDF Matrix Shape: (25, 1125)\n",
      "One-Hot Matrix Shape: (25, 496)\n",
      "TF-IDF Sparsity (%): 93.21244444444444\n",
      "One-Hot Sparsity (%): 95.33870967741936\n",
      "TF-IDF Unique Features: 1125\n",
      "One-Hot Unique Features: 496\n"
     ]
    }
   ],
   "source": [
    "# Display results\n",
    "for key, value in comparison.items():\n",
    "    print(f\"{key}: {value}\")"
   ]
  },
  {
   "cell_type": "markdown",
   "id": "29104c12-95d6-4b32-ade9-f4eab84ecf1a",
   "metadata": {},
   "source": [
    "# Task 2"
   ]
  },
  {
   "cell_type": "code",
   "execution_count": 14,
   "id": "6e5f469f-437c-4ac2-8da9-31b9c71917c4",
   "metadata": {},
   "outputs": [],
   "source": [
    "from sklearn.feature_extraction.text import TfidfVectorizer\n",
    "from sklearn.decomposition import PCA, TruncatedSVD\n",
    "from sklearn.preprocessing import LabelEncoder\n",
    "import matplotlib.pyplot as plt\n",
    "from scipy.sparse import load_npz"
   ]
  },
  {
   "cell_type": "code",
   "execution_count": 15,
   "id": "c73b034f-53f9-4c33-8b32-176e05d00508",
   "metadata": {},
   "outputs": [],
   "source": [
    "# Load datasets\n",
    "df = pd.read_csv(\"disease_features.csv\")\n",
    "encoded_df = pd.read_csv(\"encoded_output2.csv\")\n",
    "# Load the saved TF-IDF matrix\n",
    "tfidf_combined = load_npz(\"tfidf_combined_matrix.npz\")"
   ]
  },
  {
   "cell_type": "markdown",
   "id": "4bc5acaf-1971-45ac-be04-d0642c9d9e70",
   "metadata": {},
   "source": [
    "### Prepare one-hot matrix"
   ]
  },
  {
   "cell_type": "code",
   "execution_count": 16,
   "id": "992a09dd-dfd4-417d-ba6e-2de75a1776e2",
   "metadata": {},
   "outputs": [],
   "source": [
    "encoded_matrix = encoded_df.drop(columns=[\"Disease\"]).values"
   ]
  },
  {
   "cell_type": "markdown",
   "id": "34140c8a-e2ee-41ee-85d7-31de76d9f69d",
   "metadata": {},
   "source": [
    "### Dimensionality Reduction"
   ]
  },
  {
   "cell_type": "code",
   "execution_count": 17,
   "id": "013acd02-80e4-48d9-983c-5ccbf429f933",
   "metadata": {},
   "outputs": [],
   "source": [
    "pca_onehot = PCA(n_components=3)\n",
    "pca_onehot_result = pca_onehot.fit_transform(encoded_matrix)\n",
    "pca_variance = pca_onehot.explained_variance_ratio_\n",
    "\n",
    "svd_tfidf = TruncatedSVD(n_components=3)\n",
    "svd_tfidf_result = svd_tfidf.fit_transform(tfidf_combined)\n",
    "svd_variance = svd_tfidf.explained_variance_ratio_"
   ]
  },
  {
   "cell_type": "markdown",
   "id": "8fffb2b5-7eab-4852-bc47-de98e33de43d",
   "metadata": {},
   "source": [
    "### Create mock disease categories for coloring"
   ]
  },
  {
   "cell_type": "code",
   "execution_count": 18,
   "id": "9e09c640-44dd-4a87-ba7e-f9a30e824270",
   "metadata": {},
   "outputs": [],
   "source": [
    "categories = ['cardiovascular', 'neurological', 'respiratory', 'metabolic', 'infectious']\n",
    "category_labels = [categories[i % len(categories)] for i in range(len(encoded_df))]\n",
    "le = LabelEncoder()\n",
    "color_labels = le.fit_transform(category_labels)"
   ]
  },
  {
   "cell_type": "code",
   "execution_count": 19,
   "id": "65cecc25-fbc3-49be-a81a-8d23bfd26943",
   "metadata": {},
   "outputs": [],
   "source": [
    "# Plotting function\n",
    "def plot_2d(data, title, labels):\n",
    "    plt.figure(figsize=(8, 6))\n",
    "    scatter = plt.scatter(data[:, 0], data[:, 1], c=labels, cmap='tab10', s=80, edgecolor='k')\n",
    "    plt.title(title)\n",
    "    plt.xlabel(\"Component 1\")\n",
    "    plt.ylabel(\"Component 2\")\n",
    "    plt.grid(True)\n",
    "    plt.colorbar(scatter, ticks=range(len(set(labels))), label='Category')\n",
    "    plt.show()"
   ]
  },
  {
   "cell_type": "code",
   "execution_count": 20,
   "id": "46c5794f-86b9-423d-a344-d1c684f4a886",
   "metadata": {},
   "outputs": [
    {
     "data": {
      "image/png": "[encoded data removed]",
      "text/plain": [
       "<Figure size 800x600 with 2 Axes>"
      ]
     },
     "metadata": {},
     "output_type": "display_data"
    }
   ],
   "source": [
    "# Plot results\n",
    "plot_2d(pca_onehot_result, \"PCA (One-Hot Encoded Matrix)\", color_labels)"
   ]
  },
  {
   "cell_type": "code",
   "execution_count": 21,
   "id": "3b954553-c139-4bfa-a4c6-13c9cf83879e",
   "metadata": {},
   "outputs": [
    {
     "data": {
      "image/png": "[encoded data removed]",
      "text/plain": [
       "<Figure size 800x600 with 2 Axes>"
      ]
     },
     "metadata": {},
     "output_type": "display_data"
    }
   ],
   "source": [
    "plot_2d(svd_tfidf_result, \"Truncated SVD (TF-IDF Matrix)\", color_labels)"
   ]
  },
  {
   "cell_type": "markdown",
   "id": "e6a3d0e3-9c3e-45c1-932c-929728e3140d",
   "metadata": {},
   "source": [
    "### Print variance ratios"
   ]
  },
  {
   "cell_type": "code",
   "execution_count": 22,
   "id": "69a28da9-b8ed-441b-b23a-2f3fe2028e82",
   "metadata": {},
   "outputs": [
    {
     "name": "stdout",
     "output_type": "stream",
     "text": [
      "PCA (One-Hot) Explained Variance Ratio: [0.10538866 0.09170854 0.06776557]\n",
      "Truncated SVD (TF-IDF) Explained Variance Ratio: [0.00689739 0.05894642 0.05205389]\n"
     ]
    }
   ],
   "source": [
    "print(\"PCA (One-Hot) Explained Variance Ratio:\", pca_variance)\n",
    "print(\"Truncated SVD (TF-IDF) Explained Variance Ratio:\", svd_variance)"
   ]
  },
  {
   "cell_type": "markdown",
   "id": "01008089-c8c5-4b1b-bd4a-ef4188dfecd2",
   "metadata": {},
   "source": [
    "# Task 3"
   ]
  },
  {
   "cell_type": "code",
   "execution_count": 23,
   "id": "bef3af47-12b0-4667-b9aa-831805651133",
   "metadata": {},
   "outputs": [],
   "source": [
    "import numpy as np\n",
    "from sklearn.model_selection import cross_validate, StratifiedKFold\n",
    "from sklearn.neighbors import KNeighborsClassifier\n",
    "from sklearn.linear_model import LogisticRegression\n",
    "from sklearn.metrics import make_scorer, accuracy_score, precision_score, recall_score, f1_score\n",
    "from sklearn.preprocessing import LabelEncoder"
   ]
  },
  {
   "cell_type": "code",
   "execution_count": 24,
   "id": "1b479073-dba2-4a7e-b202-c4cb2aa892c7",
   "metadata": {},
   "outputs": [],
   "source": [
    "# Load data\n",
    "df = pd.read_csv(\"encoded_output2_with_categories.csv\")\n",
    "tfidf_matrix = load_npz(\"tfidf_combined_matrix.npz\")"
   ]
  },
  {
   "cell_type": "markdown",
   "id": "59b8974f-a095-4e2e-9cbd-2e9dc0966e51",
   "metadata": {},
   "source": [
    "### Extract labels and one-hot encoded features"
   ]
  },
  {
   "cell_type": "code",
   "execution_count": 25,
   "id": "ef598a90-91f2-4a77-8ab9-760a460a3f00",
   "metadata": {},
   "outputs": [],
   "source": [
    "labels = LabelEncoder().fit_transform(df['Category'])\n",
    "one_hot_features = df.drop(columns=['Disease', 'Category']).values"
   ]
  },
  {
   "cell_type": "markdown",
   "id": "f3dbd0d4-e3c4-4714-a5f7-643a8ec433f6",
   "metadata": {},
   "source": [
    "### Define scoring metrics"
   ]
  },
  {
   "cell_type": "code",
   "execution_count": 26,
   "id": "c51a6c30-4417-4407-abf2-fe65e1b1d50b",
   "metadata": {},
   "outputs": [],
   "source": [
    "scoring = {\n",
    "    'accuracy': make_scorer(accuracy_score),\n",
    "    'precision_macro': make_scorer(precision_score, average='macro', zero_division=0),\n",
    "    'recall_macro': make_scorer(recall_score, average='macro', zero_division=0),\n",
    "    'f1_macro': make_scorer(f1_score, average='macro', zero_division=0)\n",
    "}"
   ]
  },
  {
   "cell_type": "markdown",
   "id": "04035281-5316-460c-a37c-d5e9fb4dcaf2",
   "metadata": {},
   "source": [
    "### Cross-validation setup"
   ]
  },
  {
   "cell_type": "code",
   "execution_count": 27,
   "id": "e449bbed-4cc1-4446-8fa8-893e7d9e86f4",
   "metadata": {},
   "outputs": [],
   "source": [
    "cv = StratifiedKFold(n_splits=5, shuffle=True, random_state=42)"
   ]
  },
  {
   "cell_type": "markdown",
   "id": "61477705-fd83-4440-89ee-3a317cdb8bbb",
   "metadata": {},
   "source": [
    "### Distance metrics for KNN"
   ]
  },
  {
   "cell_type": "code",
   "execution_count": 28,
   "id": "ab5b1b69-b019-4cee-bc80-6580b87f345c",
   "metadata": {},
   "outputs": [],
   "source": [
    "distance_metrics = {\n",
    "    'euclidean': 'euclidean',\n",
    "    'manhattan': 'manhattan',\n",
    "    'cosine': 'cosine'\n",
    "}"
   ]
  },
  {
   "cell_type": "markdown",
   "id": "483a438c-7e98-4e73-b142-6a0990ecb46c",
   "metadata": {},
   "source": [
    "### Evaluate KNN"
   ]
  },
  {
   "cell_type": "code",
   "execution_count": 29,
   "id": "7e208f72-f55f-406a-998e-c621ee2461ff",
   "metadata": {},
   "outputs": [],
   "source": [
    "def evaluate_knn(X, y, dataset_name):\n",
    "    results = []\n",
    "    for k in [3, 5, 7]:\n",
    "        for metric_name, metric in distance_metrics.items():\n",
    "            model = KNeighborsClassifier(n_neighbors=k, metric=metric)\n",
    "            scores = cross_validate(model, X, y, cv=cv, scoring=scoring)\n",
    "            results.append({\n",
    "                'Model': 'KNN',\n",
    "                'Dataset': dataset_name,\n",
    "                'k': k,\n",
    "                'Metric': metric_name,\n",
    "                'Accuracy': np.mean(scores['test_accuracy']),\n",
    "                'Precision': np.mean(scores['test_precision_macro']),\n",
    "                'Recall': np.mean(scores['test_recall_macro']),\n",
    "                'F1-Score': np.mean(scores['test_f1_macro'])\n",
    "            })\n",
    "    return results"
   ]
  },
  {
   "cell_type": "markdown",
   "id": "3499427a-c62b-4eec-a2d9-d7afef373bb0",
   "metadata": {},
   "source": [
    "### Evaluate Logistic Regression"
   ]
  },
  {
   "cell_type": "code",
   "execution_count": 30,
   "id": "fcb701af-b271-4529-b0c9-7bc20560bb2d",
   "metadata": {},
   "outputs": [],
   "source": [
    "def evaluate_logreg(X, y, dataset_name):\n",
    "    model = LogisticRegression(max_iter=1000)\n",
    "    scores = cross_validate(model, X, y, cv=cv, scoring=scoring)\n",
    "    return [{\n",
    "        'Model': 'Logistic Regression',\n",
    "        'Dataset': dataset_name,\n",
    "        'k': None,\n",
    "        'Metric': None,\n",
    "        'Accuracy': np.mean(scores['test_accuracy']),\n",
    "        'Precision': np.mean(scores['test_precision_macro']),\n",
    "        'Recall': np.mean(scores['test_recall_macro']),\n",
    "        'F1-Score': np.mean(scores['test_f1_macro'])\n",
    "    }]"
   ]
  },
  {
   "cell_type": "code",
   "execution_count": 31,
   "id": "b9c8b98f-0caa-4273-97eb-543d1271d5d4",
   "metadata": {},
   "outputs": [],
   "source": [
    "# Run all evaluations\n",
    "results = []\n",
    "results += evaluate_knn(one_hot_features, labels, 'One-Hot')\n",
    "results += evaluate_knn(tfidf_matrix, labels, 'TF-IDF')\n",
    "results += evaluate_logreg(one_hot_features, labels, 'One-Hot')\n",
    "results += evaluate_logreg(tfidf_matrix, labels, 'TF-IDF')"
   ]
  },
  {
   "cell_type": "code",
   "execution_count": 32,
   "id": "e59faf2a-c1d5-47d5-a76a-881decbae2eb",
   "metadata": {},
   "outputs": [],
   "source": [
    "# Convert results to DataFrame and sort\n",
    "results_df = pd.DataFrame(results)\n",
    "results_df = results_df.sort_values(by=[\"Model\", \"Dataset\", \"k\", \"Metric\"]).reset_index(drop=True)"
   ]
  },
  {
   "cell_type": "code",
   "execution_count": 33,
   "id": "3c60ef57-22b0-4730-9b4a-676a678ff0a0",
   "metadata": {},
   "outputs": [
    {
     "name": "stdout",
     "output_type": "stream",
     "text": [
      "                  Model  Dataset    k     Metric  Accuracy  Precision  Recall  \\\n",
      "0                   KNN  One-Hot  3.0     cosine      0.48   0.266667   0.425   \n",
      "1                   KNN  One-Hot  3.0  euclidean      0.40   0.224167   0.375   \n",
      "2                   KNN  One-Hot  3.0  manhattan      0.40   0.224167   0.375   \n",
      "3                   KNN  One-Hot  5.0     cosine      0.40   0.220833   0.350   \n",
      "4                   KNN  One-Hot  5.0  euclidean      0.36   0.167500   0.325   \n",
      "5                   KNN  One-Hot  5.0  manhattan      0.36   0.167500   0.325   \n",
      "6                   KNN  One-Hot  7.0     cosine      0.40   0.279167   0.350   \n",
      "7                   KNN  One-Hot  7.0  euclidean      0.36   0.175000   0.300   \n",
      "8                   KNN  One-Hot  7.0  manhattan      0.36   0.175000   0.300   \n",
      "9                   KNN   TF-IDF  3.0     cosine      0.52   0.316667   0.450   \n",
      "10                  KNN   TF-IDF  3.0  euclidean      0.40   0.225000   0.350   \n",
      "11                  KNN   TF-IDF  3.0  manhattan      0.32   0.080000   0.250   \n",
      "12                  KNN   TF-IDF  5.0     cosine      0.56   0.370000   0.500   \n",
      "13                  KNN   TF-IDF  5.0  euclidean      0.44   0.248333   0.375   \n",
      "14                  KNN   TF-IDF  5.0  manhattan      0.32   0.080000   0.250   \n",
      "15                  KNN   TF-IDF  7.0     cosine      0.64   0.445000   0.600   \n",
      "16                  KNN   TF-IDF  7.0  euclidean      0.36   0.146667   0.300   \n",
      "17                  KNN   TF-IDF  7.0  manhattan      0.32   0.080000   0.250   \n",
      "18  Logistic Regression  One-Hot  NaN       None      0.44   0.295833   0.400   \n",
      "19  Logistic Regression   TF-IDF  NaN       None      0.44   0.220000   0.400   \n",
      "\n",
      "    F1-Score  \n",
      "0   0.313333  \n",
      "1   0.245000  \n",
      "2   0.245000  \n",
      "3   0.250000  \n",
      "4   0.196905  \n",
      "5   0.196905  \n",
      "6   0.278333  \n",
      "7   0.180476  \n",
      "8   0.180476  \n",
      "9   0.348333  \n",
      "10  0.250000  \n",
      "11  0.119048  \n",
      "12  0.410238  \n",
      "13  0.270476  \n",
      "14  0.119048  \n",
      "15  0.493571  \n",
      "16  0.186905  \n",
      "17  0.119048  \n",
      "18  0.285000  \n",
      "19  0.265000  \n"
     ]
    }
   ],
   "source": [
    "# Display results\n",
    "print(results_df)"
   ]
  },
  {
   "cell_type": "code",
   "execution_count": null,
   "id": "5d88d65c-19a6-4c89-8cf4-50cd15c0b0b0",
   "metadata": {},
   "outputs": [],
   "source": [
    "# Optional: Save to CSV\n",
    "#results_df.to_csv(\"model_comparison_results.csv\", index=False)"
   ]
  }
 ],
 "metadata": {
  "kernelspec": {
   "display_name": "Python 3 (ipykernel)",
   "language": "python",
   "name": "python3"
  },
  "language_info": {
   "codemirror_mode": {
    "name": "ipython",
    "version": 3
   },
   "file_extension": ".py",
   "mimetype": "text/x-python",
   "name": "python",
   "nbconvert_exporter": "python",
   "pygments_lexer": "ipython3",
   "version": "3.13.1"
  }
 },
 "nbformat": 4,
 "nbformat_minor": 5
}
